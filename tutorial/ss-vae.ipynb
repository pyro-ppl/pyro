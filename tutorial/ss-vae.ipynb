{
 "cells": [
  {
   "cell_type": "markdown",
   "metadata": {},
   "source": [
    "# The Semi-Supervised VAE\n",
    "\n",
    "# Introduction [martin to get this rolling]\n",
    "\n",
    "Most of the models we've covered in the tutorials are unsupervised:\n",
    "\n",
    "- [the VAE](http://pyro.ai/examples/vae.html)\n",
    "- [the DMM](http://pyro.ai/examples/dmm.html)\n",
    "- [AIR](http://pyro.ai/examples/air.html)\n",
    "\n",
    "We've also covered a simple supervised model:\n",
    "\n",
    "- [Bayesian Regression](http://pyro.ai/examples/bayesian_regression.html)\n",
    "\n",
    "The semi-supervised setting, where some of the data is labeled and some is not, represents an interesting intermediate case. It's also a problem setting that pairs well with generative models, where missing data can be accounted for quite naturally&mdash;at least conceptually.\n",
    "As we will see, in restricting our attention to semi-supervised generative models, there will be no shortage of different model variants and possible inference strategies. \n",
    "Although we'll only be able to explore a few of these variants in detail, the reader is likely to come away from the tutorial with a greater appreciation for how useful the abstractions and modularity offered by probabilistic programming can be in practice.\n",
    "\n",
    "<figure><img src=\"ss_vae_zoo.png\" style=\"width: 400px;\"><figcaption> <font size=\"+1\"><b>Figure 1</b>: two semi-supervised generative models</font></figcaption></figure>\n"
   ]
  },
  {
   "cell_type": "markdown",
   "metadata": {},
   "source": [
    "# First Variant: Naive model, naive estimator [rohit]"
   ]
  },
  {
   "cell_type": "markdown",
   "metadata": {},
   "source": [
    "# Interlude: Summing out discretes [fritz]"
   ]
  },
  {
   "cell_type": "markdown",
   "metadata": {},
   "source": [
    "# Second Variant: Same model, better estimator [rohit]"
   ]
  },
  {
   "cell_type": "markdown",
   "metadata": {},
   "source": [
    "# Third Variant: Adding a loss term [rohit]"
   ]
  },
  {
   "cell_type": "markdown",
   "metadata": {},
   "source": [
    "# Results [rohit]"
   ]
  },
  {
   "cell_type": "markdown",
   "metadata": {},
   "source": [
    "# Final thoughts\n",
    "\n",
    "See the full code on [Github](https://github.com/uber/pyro/blob/dev/examples/ssvae.py).\n",
    "\n",
    "## References\n",
    "\n",
    "[1] `Semi-supervised Learning with Deep Generative Models`,<br/>&nbsp;&nbsp;&nbsp;&nbsp;\n",
    "Diederik P. Kingma, Danilo J. Rezende, Shakir Mohamed, Max Welling"
   ]
  }
 ],
 "metadata": {
  "anaconda-cloud": {},
  "kernelspec": {
   "display_name": "Python 2",
   "language": "python",
   "name": "python2"
  },
  "language_info": {
   "codemirror_mode": {
    "name": "ipython",
    "version": 2
   },
   "file_extension": ".py",
   "mimetype": "text/x-python",
   "name": "python",
   "nbconvert_exporter": "python",
   "pygments_lexer": "ipython2",
   "version": "2.7.13"
  }
 },
 "nbformat": 4,
 "nbformat_minor": 1
}
