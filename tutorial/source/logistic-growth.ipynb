{
 "cells": [
  {
   "cell_type": "markdown",
   "metadata": {},
   "source": [
    "# Logistic growth models of SARS-CoV-2 strain ratios\n",
    "\n",
    "This notebook explores multivariate logistic growth models, with applications to determining the relative proportions of SARS-CoV-2 strains over time.\n",
    "\n",
    "**WARNING**: The purpose of this tutorial is to demonstrate Pyro's modeling and inference syntax. \n",
    "Making reliable inferences about SARS-CoV-2 **is not** the purpose of this tutorial.\n",
    "\n",
    "#### Table of contents\n",
    "\n",
    "* [Overview](#Overview)\n",
    "* [Loading data](#Loading-data)\n",
    "* [A First Model](#A-first-model)\n",
    "* [Defining a regional model](#Defining-a-regional-model)\n",
    "* [Defining an alternative regional model](#Defining-an-alternative-regional-model)"
   ]
  },
  {
   "cell_type": "markdown",
   "metadata": {},
   "source": [
    "## Overview <a name=\"Overview\" />\n",
    "\n",
    "When different strains/lineages/variants of a virus like SARS-CoV-2 circulate in a population, those lineages that have the largest fitness will tend to dominate, and those lineages that are least fit will tend to be outcompeted by the fittest lineages.\n",
    "In this tutorial we set out to infer (differential) growth rates for different \n",
    "SARS-CoV-2 lineages using a spatio-temporal dataset of SARS-CoV-2 genetic sequences.\n",
    "We'll start with the simplest possible model and then move on to more complex models with hierarchical structure."
   ]
  },
  {
   "cell_type": "code",
   "execution_count": 1,
   "metadata": {},
   "outputs": [
    {
     "name": "stdout",
     "output_type": "stream",
     "text": [
      "Using CPU\n"
     ]
    }
   ],
   "source": [
    "import os\n",
    "from functools import partial\n",
    "\n",
    "import numpy as np\n",
    "import torch\n",
    "\n",
    "import pyro\n",
    "import pyro.distributions as dist\n",
    "from pyro.distributions import constraints\n",
    "from pyro.infer import SVI, Trace_ELBO\n",
    "from pyro.infer.autoguide import AutoNormal\n",
    "from pyro.optim import ClippedAdam\n",
    "\n",
    "import matplotlib.pyplot as plt\n",
    "\n",
    "if torch.cuda.is_available():\n",
    "    print(\"Using GPU\")\n",
    "    torch.set_default_tensor_type(\"torch.cuda.FloatTensor\")\n",
    "else:\n",
    "    print(\"Using CPU\")\n",
    "    \n",
    "smoke_test = ('CI' in os.environ)  # for use in continuous integration testing"
   ]
  },
  {
   "cell_type": "markdown",
   "metadata": {},
   "source": [
    "## Loading data <a name=\"Loading-data\" />\n",
    "\n",
    "Our data consist of a few million genetic sequences of SARS-CoV-2 viruses, clustered into [PANGO lineages](https://cov-lineages.org), and aggregated into a few hundred regions globally and into 28-day time bins. Preprocessing was performed by Nextstrain's [ncov](https://docs.nextstrain.org/projects/ncov/en/latest/reference/remote_inputs.html) tool, and aggregation was performed by the Broad Institute's [pyro-cov](https://github.com/broadinstitute/pyro-cov/blob/master/scripts/preprocess_nextstrain.py) tool."
   ]
  },
  {
   "cell_type": "code",
   "execution_count": 2,
   "metadata": {},
   "outputs": [
    {
     "name": "stdout",
     "output_type": "stream",
     "text": [
      "counts: Tensor of shape (27, 202, 1316) on cpu\n",
      "features: Tensor of shape (1316, 2634) on cpu\n",
      "lineages: list of length 1316\n",
      "locations: list of length 202\n",
      "mutations: list of length 2634\n",
      "sparse_counts.index: Tensor of shape (3, 57129) on cpu\n",
      "sparse_counts.total: Tensor of shape (27, 202) on cpu\n",
      "sparse_counts.value: Tensor of shape (57129,) on cpu\n",
      "start_date: datetime\n",
      "time_step_days: int\n"
     ]
    }
   ],
   "source": [
    "from pyro.contrib.examples.nextstrain import load_nextstrain_counts\n",
    "dataset = load_nextstrain_counts()\n",
    "\n",
    "def summarize(x, name=\"\"):\n",
    "    if isinstance(x, dict):\n",
    "        for k, v in sorted(x.items()):\n",
    "            summarize(v, name + \".\" + k if name else k)\n",
    "    elif isinstance(x, torch.Tensor):\n",
    "        print(f\"{name}: {type(x).__name__} of shape {tuple(x.shape)} on {x.device}\")\n",
    "    elif isinstance(x, list):\n",
    "        print(f\"{name}: {type(x).__name__} of length {len(x)}\")\n",
    "    else:\n",
    "        print(f\"{name}: {type(x).__name__}\")\n",
    "summarize(dataset)"
   ]
  },
  {
   "cell_type": "markdown",
   "metadata": {},
   "source": [
    "The main two pieces of data are a counts tensor and a feature matrix. The `dataset[\"counts\"]` tensor has shape (T, R, L) where `T` is the number of time bins, `R` is the number of regions, and `L` is the number of strains or PANGO lineages, and `dataset[\"counts\"][t,r,l]` is the number of samples in the corresponding time-region-location bin.\n",
    "\n",
    "The `dataset[\"features\"]` matrix (not used in this tutorial) has shape (L, M) where `L` is the number of strains or PANGO lineages, and `M` is the number of mutations, and `dataset[\"features\"][l,m]` is the portion of samples classified as lineage `l` that exhibit mutation `m` (note this is not quite binary, because each lineage is heterogeneous).\n",
    "\n",
    "The count data are heavily skewed towards a few large regions and dominant lineages like `B.1.1.7` and `B.1.617.2`."
   ]
  },
  {
   "cell_type": "code",
   "execution_count": 3,
   "metadata": {},
   "outputs": [
    {
     "data": {
      "image/png": "[encoded data removed]",
      "text/plain": [
       "<Figure size 576x216 with 3 Axes>"
      ]
     },
     "metadata": {
      "needs_background": "light"
     },
     "output_type": "display_data"
    }
   ],
   "source": [
    "fig, axes = plt.subplots(1, 3, figsize=(8, 3), sharey=True)\n",
    "for i, name in enumerate([\"time bin\", \"location\", \"lineage\"]):\n",
    "    counts = dataset[\"counts\"].sum(list({0, 1, 2} - {i}))\n",
    "    Y = counts.sort(0, True).values\n",
    "    axes[i].plot(Y)\n",
    "    axes[i].set_xlim(0, None)\n",
    "    axes[0].set_ylim(1, None)\n",
    "    axes[i].set_yscale(\"log\")\n",
    "    axes[i].set_xlabel(f\"rank\", fontsize=18)\n",
    "    axes[i].set_title(f\"{len(Y)} {name}s\")\n",
    "axes[0].set_ylabel(\"# samples\", fontsize=18)\n",
    "plt.subplots_adjust(wspace=0.15);"
   ]
  },
  {
   "cell_type": "markdown",
   "metadata": {},
   "source": [
    "## Helpers for manipulating data"
   ]
  },
  {
   "cell_type": "code",
   "execution_count": 4,
   "metadata": {},
   "outputs": [],
   "source": [
    "def get_lineage_id(s):\n",
    "    \"\"\"Get lineage id from string name\"\"\"\n",
    "    return np.argmax(np.array([s]) == dataset['lineages'])\n",
    "\n",
    "def get_location_id(s):\n",
    "    \"\"\"Get location id from string name\"\"\"\n",
    "    return np.argmax(np.array([s]) == dataset['locations'])\n",
    "\n",
    "def get_aggregated_counts_from_locations(locations):\n",
    "    \"\"\"Get aggregated counts from a list of locations\"\"\"\n",
    "    return sum([dataset['counts'][:, get_location_id(loc)] for loc in locations])"
   ]
  },
  {
   "cell_type": "markdown",
   "metadata": {},
   "source": [
    "## A first model\n",
    "\n",
    "First let's zoom-in on Massachusetts and a few surrounding states:"
   ]
  },
  {
   "cell_type": "code",
   "execution_count": 5,
   "metadata": {},
   "outputs": [],
   "source": [
    "northeast_states = ['USA / Massachusetts', \n",
    "                    'USA / New York', \n",
    "                    'USA / Connecticut', \n",
    "                    'USA / New Hampshire',\n",
    "                    'USA / Vermont',\n",
    "                    'USA / New Jersey',\n",
    "                    'USA / Maine',\n",
    "                    'USA / Rhode Island', \n",
    "                    'USA / Pennsylvania']\n",
    "\n",
    "northeast_counts = get_aggregated_counts_from_locations(northeast_states)"
   ]
  },
  {
   "cell_type": "markdown",
   "metadata": {},
   "source": [
    "Next let's extract sublineages corresponding to Alpha and Delta:"
   ]
  },
  {
   "cell_type": "code",
   "execution_count": 6,
   "metadata": {},
   "outputs": [],
   "source": [
    "# The Alpha and Delta lineages consist of many sublineages, which we need to aggregate.\n",
    "Q_lineages = [lin for lin in dataset['lineages'] if lin[:2] == 'Q.']\n",
    "AY_lineages = [lin for lin in dataset['lineages'] if lin[:3] == 'AY.']\n",
    "\n",
    "alpha_lineages = ['B.1.1.7'] + Q_lineages\n",
    "delta_lineages = ['B.1.617.2'] + AY_lineages\n",
    "\n",
    "alpha_ids = [get_lineage_id(lin) for lin in alpha_lineages]\n",
    "delta_ids = [get_lineage_id(lin) for lin in delta_lineages]\n",
    "\n",
    "alpha_counts = northeast_counts[:, alpha_ids].sum(-1)\n",
    "delta_counts = northeast_counts[:, delta_ids].sum(-1)"
   ]
  },
  {
   "cell_type": "code",
   "execution_count": 7,
   "metadata": {},
   "outputs": [
    {
     "name": "stdout",
     "output_type": "stream",
     "text": [
      "torch.Size([27, 2])\n"
     ]
    }
   ],
   "source": [
    "# Let's combine the counts into a single tensor\n",
    "alpha_delta_counts = torch.stack([alpha_counts, delta_counts]).T\n",
    "print(alpha_delta_counts.shape)"
   ]
  },
  {
   "cell_type": "markdown",
   "metadata": {},
   "source": [
    "Next let's plot the time series of count proportions (Alpha vs. Delta):"
   ]
  },
  {
   "cell_type": "code",
   "execution_count": 8,
   "metadata": {},
   "outputs": [
    {
     "data": {
      "image/png": "[encoded data removed]",
      "text/plain": [
       "<Figure size 504x288 with 1 Axes>"
      ]
     },
     "metadata": {
      "needs_background": "light"
     },
     "output_type": "display_data"
    }
   ],
   "source": [
    "# We skip the first year or so of the pandemic where Alpha and Delta are not present\n",
    "total_counts = alpha_counts + delta_counts\n",
    "start_time = 13\n",
    "total_counts = total_counts[start_time:]\n",
    "plt.figure(figsize=(7, 4))\n",
    "plt.plot(np.arange(total_counts.shape[0]), alpha_counts[start_time:] / total_counts, \n",
    "         label='Alpha')\n",
    "plt.plot(np.arange(total_counts.shape[0]), delta_counts[start_time:] / total_counts, \n",
    "         label='Delta')\n",
    "plt.xlabel(\"Time (in units of 28 days)\", fontsize=18)\n",
    "plt.ylabel(\"Proportion\", fontsize=18)\n",
    "plt.legend(fontsize=18)\n",
    "plt.tight_layout()"
   ]
  },
  {
   "cell_type": "markdown",
   "metadata": {},
   "source": [
    "We see that at first Alpha was dominant, but then Delta started outcompeting it until Delta became dominant.\n",
    "\n",
    "### Model definition\n",
    "\n",
    "Instead of attempting to model how the total number of observed sequences varies as a function of time (which depends on complex human behavior), we instead model the *proportion* of sequences at each time step that are Alpha versus Delta. In other words if we observed 8 Alpha lineages and 2 Delta lineages at a given time step, we model the proportions 80% and 20% instead of the raw counts 8 and 2. To do this we use a Multinomial distribution."
   ]
  },
  {
   "cell_type": "code",
   "execution_count": 9,
   "metadata": {},
   "outputs": [],
   "source": [
    "def basic_model(counts):\n",
    "    T, L = counts.shape\n",
    "\n",
    "    # Define plates over lineage and time\n",
    "    lineage_plate = pyro.plate(\"lineages\", L, dim=-1)\n",
    "    time_plate = pyro.plate(\"time\", T, dim=-2)\n",
    "\n",
    "    # Define a growth rate (i.e. slope) and an init (i.e. intercept) for each lineage\n",
    "    with lineage_plate:\n",
    "        rate = pyro.sample(\"rate\", dist.Normal(0, 1))\n",
    "        init = pyro.sample(\"init\", dist.Normal(0, 1))\n",
    "\n",
    "    # We measure time in units of the SARS-CoV-2 generation time of 5.5 days\n",
    "    time = torch.arange(float(T)) * dataset[\"time_step_days\"] / 5.5\n",
    "    \n",
    "    # Assume lineages grow linearly in logit space\n",
    "    logits = init + rate * time[:, None]\n",
    "    \n",
    "    # We use the softmax function (the multivariate generalization of the logit function)\n",
    "    # to define normalized probabilities from the logits\n",
    "    probs = torch.softmax(logits, dim=-1)\n",
    "    assert probs.shape == (T, L)\n",
    "    \n",
    "    # Observe counts via a multinomial likelihood.\n",
    "    with time_plate:\n",
    "        pyro.sample(\n",
    "            \"obs\",\n",
    "            dist.Multinomial(probs=probs.unsqueeze(-2), validate_args=False),\n",
    "            obs=counts.unsqueeze(-2),\n",
    "        )"
   ]
  },
  {
   "cell_type": "code",
   "execution_count": 10,
   "metadata": {},
   "outputs": [
    {
     "data": {
      "image/svg+xml": [
       "<?xml version=\"1.0\" encoding=\"UTF-8\" standalone=\"no\"?>\n",
       "<!DOCTYPE svg PUBLIC \"-//W3C//DTD SVG 1.1//EN\"\n",
       " \"http://www.w3.org/Graphics/SVG/1.1/DTD/svg11.dtd\">\n",
       "<!-- Generated by graphviz version 2.40.1 (20161225.0304)\n",
       " -->\n",
       "<!-- Title: %3 Pages: 1 -->\n",
       "<svg width=\"166pt\" height=\"182pt\"\n",
       " viewBox=\"0.00 0.00 166.00 182.00\" xmlns=\"http://www.w3.org/2000/svg\" xmlns:xlink=\"http://www.w3.org/1999/xlink\">\n",
       "<g id=\"graph0\" class=\"graph\" transform=\"scale(1 1) rotate(0) translate(4 178)\">\n",
       "<title>%3</title>\n",
       "<polygon fill=\"#ffffff\" stroke=\"transparent\" points=\"-4,4 -4,-178 162,-178 162,4 -4,4\"/>\n",
       "<g id=\"clust1\" class=\"cluster\">\n",
       "<title>cluster_lineages</title>\n",
       "<polygon fill=\"none\" stroke=\"#000000\" points=\"8,-91 8,-166 150,-166 150,-91 8,-91\"/>\n",
       "<text text-anchor=\"middle\" x=\"119\" y=\"-98.8\" font-family=\"Times,serif\" font-size=\"14.00\" fill=\"#000000\">lineages</text>\n",
       "</g>\n",
       "<g id=\"clust2\" class=\"cluster\">\n",
       "<title>cluster_time</title>\n",
       "<polygon fill=\"none\" stroke=\"#000000\" points=\"44,-8 44,-83 114,-83 114,-8 44,-8\"/>\n",
       "<text text-anchor=\"middle\" x=\"93.5\" y=\"-15.8\" font-family=\"Times,serif\" font-size=\"14.00\" fill=\"#000000\">time</text>\n",
       "</g>\n",
       "<!-- rate -->\n",
       "<g id=\"node1\" class=\"node\">\n",
       "<title>rate</title>\n",
       "<ellipse fill=\"#ffffff\" stroke=\"#000000\" cx=\"115\" cy=\"-140\" rx=\"27\" ry=\"18\"/>\n",
       "<text text-anchor=\"middle\" x=\"115\" y=\"-136.3\" font-family=\"Times,serif\" font-size=\"14.00\" fill=\"#000000\">rate</text>\n",
       "</g>\n",
       "<!-- obs -->\n",
       "<g id=\"node3\" class=\"node\">\n",
       "<title>obs</title>\n",
       "<ellipse fill=\"#c0c0c0\" stroke=\"#000000\" cx=\"79\" cy=\"-57\" rx=\"27\" ry=\"18\"/>\n",
       "<text text-anchor=\"middle\" x=\"79\" y=\"-53.3\" font-family=\"Times,serif\" font-size=\"14.00\" fill=\"#000000\">obs</text>\n",
       "</g>\n",
       "<!-- rate&#45;&gt;obs -->\n",
       "<g id=\"edge1\" class=\"edge\">\n",
       "<title>rate&#45;&gt;obs</title>\n",
       "<path fill=\"none\" stroke=\"#000000\" d=\"M107.3653,-122.3978C102.4641,-111.0977 96.0074,-96.2116 90.4926,-83.4967\"/>\n",
       "<polygon fill=\"#000000\" stroke=\"#000000\" points=\"93.6904,-82.0737 86.5002,-74.2922 87.2685,-84.8591 93.6904,-82.0737\"/>\n",
       "</g>\n",
       "<!-- init -->\n",
       "<g id=\"node2\" class=\"node\">\n",
       "<title>init</title>\n",
       "<ellipse fill=\"#ffffff\" stroke=\"#000000\" cx=\"43\" cy=\"-140\" rx=\"27\" ry=\"18\"/>\n",
       "<text text-anchor=\"middle\" x=\"43\" y=\"-136.3\" font-family=\"Times,serif\" font-size=\"14.00\" fill=\"#000000\">init</text>\n",
       "</g>\n",
       "<!-- init&#45;&gt;obs -->\n",
       "<g id=\"edge2\" class=\"edge\">\n",
       "<title>init&#45;&gt;obs</title>\n",
       "<path fill=\"none\" stroke=\"#000000\" d=\"M50.6347,-122.3978C55.5359,-111.0977 61.9926,-96.2116 67.5074,-83.4967\"/>\n",
       "<polygon fill=\"#000000\" stroke=\"#000000\" points=\"70.7315,-84.8591 71.4998,-74.2922 64.3096,-82.0737 70.7315,-84.8591\"/>\n",
       "</g>\n",
       "</g>\n",
       "</svg>\n"
      ],
      "text/plain": [
       "<graphviz.dot.Digraph at 0x7f8a45e04250>"
      ]
     },
     "execution_count": 10,
     "metadata": {},
     "output_type": "execute_result"
    }
   ],
   "source": [
    "# Let's look at the graphical structure of our model\n",
    "pyro.render_model(partial(basic_model, alpha_delta_counts))"
   ]
  },
  {
   "cell_type": "markdown",
   "metadata": {},
   "source": [
    "### Define helper for fitting models"
   ]
  },
  {
   "cell_type": "code",
   "execution_count": 11,
   "metadata": {},
   "outputs": [],
   "source": [
    "def fit_svi(model, lr=0.1, num_steps=1001, log_every=250):\n",
    "    pyro.clear_param_store()  # clear parameters from previous runs\n",
    "    pyro.set_rng_seed(20211214)\n",
    "    if smoke_test:\n",
    "        num_steps = 2\n",
    "        \n",
    "    # Define a mean field guide (i.e. variational distribution)\n",
    "    guide = AutoNormal(model, init_scale=0.01)\n",
    "    optim = ClippedAdam({\"lr\": lr, \"lrd\": 0.1 ** (1 / num_steps)})\n",
    "    svi = SVI(model, guide, optim, Trace_ELBO())\n",
    "    \n",
    "    # Train (i.e. do ELBO optimization) for num_steps iterations\n",
    "    losses = []\n",
    "    for step in range(num_steps):\n",
    "        loss = svi.step()\n",
    "        losses.append(loss)\n",
    "        if step % log_every == 0:\n",
    "            print(f\"step {step: >4d} loss = {loss:0.6g}\")\n",
    "            \n",
    "    # Plot to assess convergence.\n",
    "    plt.figure(figsize=(6, 3))\n",
    "    plt.plot(losses)\n",
    "    plt.xlabel(\"SVI step\", fontsize=18)\n",
    "    plt.ylabel(\"ELBO loss\", fontsize=18)\n",
    "    plt.tight_layout()\n",
    "\n",
    "    return guide"
   ]
  },
  {
   "cell_type": "markdown",
   "metadata": {},
   "source": [
    "### Let's fit `basic_model` and inspect the results"
   ]
  },
  {
   "cell_type": "code",
   "execution_count": 12,
   "metadata": {},
   "outputs": [
    {
     "name": "stdout",
     "output_type": "stream",
     "text": [
      "step    0 loss = 103782\n",
      "step  250 loss = 3373.05\n",
      "step  500 loss = 1299.14\n",
      "step  750 loss = 524.81\n",
      "step 1000 loss = 304.319\n",
      "step 1250 loss = 278.005\n",
      "step 1500 loss = 261.731\n"
     ]
    },
    {
     "data": {
      "image/png": "[encoded data removed]",
      "text/plain": [
       "<Figure size 432x216 with 1 Axes>"
      ]
     },
     "metadata": {
      "needs_background": "light"
     },
     "output_type": "display_data"
    }
   ],
   "source": [
    "# We truncate the data to the period with non-zero counts\n",
    "guide = fit_svi(partial(basic_model, alpha_delta_counts[13:]), num_steps=1501)"
   ]
  },
  {
   "cell_type": "markdown",
   "metadata": {},
   "source": [
    "#### Let's inspect the posterior means of our latent parameters:"
   ]
  },
  {
   "cell_type": "code",
   "execution_count": 13,
   "metadata": {},
   "outputs": [
    {
     "name": "stdout",
     "output_type": "stream",
     "text": [
      "rate [-0.27021623  0.27021623]\n",
      "init [ 8.870546 -8.870401]\n"
     ]
    }
   ],
   "source": [
    "for k, v in guide.median().items():\n",
    "    print(k, v.data.cpu().numpy())"
   ]
  },
  {
   "cell_type": "markdown",
   "metadata": {},
   "source": [
    "As expected the Delta lineage (corresponding to index `1`) has a differential growth rate advantage with respect to the Alpha lineage (corresponding to index `0`) :"
   ]
  },
  {
   "cell_type": "code",
   "execution_count": 14,
   "metadata": {},
   "outputs": [
    {
     "name": "stdout",
     "output_type": "stream",
     "text": [
      "Multiplicative advantage: 1.72\n"
     ]
    }
   ],
   "source": [
    "print(\"Multiplicative advantage: {:.2f}\".format(\n",
    "      np.exp(guide.median()['rate'][1] - guide.median()['rate'][0])))"
   ]
  },
  {
   "cell_type": "markdown",
   "metadata": {},
   "source": [
    "This seems like it might be an overestimate. Can we get better estimates by modeling each spatial region individually?"
   ]
  },
  {
   "cell_type": "markdown",
   "metadata": {},
   "source": [
    "## Defining a regional model\n",
    "\n",
    "Instead of focusing on northeastern US states we now consider the entire global dataset."
   ]
  },
  {
   "cell_type": "code",
   "execution_count": 15,
   "metadata": {},
   "outputs": [
    {
     "name": "stdout",
     "output_type": "stream",
     "text": [
      "counts.shape:  torch.Size([27, 202, 2])\n",
      "number of regions: 202\n"
     ]
    }
   ],
   "source": [
    "# First extract the data we want to use\n",
    "alpha_counts = dataset['counts'][:, :, alpha_ids].sum(-1)\n",
    "delta_counts = dataset['counts'][:, :, delta_ids].sum(-1)\n",
    "counts = torch.stack([alpha_counts, delta_counts], dim=-1)\n",
    "print(\"counts.shape: \", counts.shape)\n",
    "print(\"number of regions: {}\".format(counts.size(1)))"
   ]
  },
  {
   "cell_type": "code",
   "execution_count": 16,
   "metadata": {},
   "outputs": [],
   "source": [
    "# Model each region as multivariate logistic growth\n",
    "def regional_model(counts):\n",
    "    T, R, L = counts.shape\n",
    "        \n",
    "    # Now we also define a region plate in addition to the time/lineage plates\n",
    "    lineage_plate = pyro.plate(\"lineages\", L, dim=-1)\n",
    "    region_plate = pyro.plate(\"region\", R, dim=-2)\n",
    "    time_plate = pyro.plate(\"time\", T, dim=-3)\n",
    "\n",
    "    # We use the same growth rate (i.e. slope) for each region\n",
    "    with lineage_plate:\n",
    "        rate = pyro.sample(\"rate\", dist.Normal(0, 1))\n",
    "        \n",
    "    # We allow the init to vary from region to region\n",
    "    init_scale = pyro.sample(\"init_scale\", dist.LogNormal(0, 2))\n",
    "    with region_plate, lineage_plate:\n",
    "        init = pyro.sample(\"init\", dist.Normal(0, init_scale))\n",
    "\n",
    "    # We measure time in units of the SARS-CoV-2 generation time of 5.5 days\n",
    "    time = torch.arange(float(T)) * dataset[\"time_step_days\"] / 5.5\n",
    "\n",
    "    # Instead of using the softmax function we directly use the \n",
    "    # logits parameterization of the Multinomial distribution\n",
    "    logits = init + rate * time[:, None, None]\n",
    "    \n",
    "    # Observe sequences via a multinomial likelihood.\n",
    "    with time_plate, region_plate:\n",
    "        pyro.sample(\n",
    "            \"obs\",\n",
    "            dist.Multinomial(logits=logits.unsqueeze(-2), validate_args=False),\n",
    "            obs=counts.unsqueeze(-2),\n",
    "        )"
   ]
  },
  {
   "cell_type": "code",
   "execution_count": 17,
   "metadata": {},
   "outputs": [
    {
     "name": "stdout",
     "output_type": "stream",
     "text": [
      "step    0 loss = 909278\n",
      "step  250 loss = 509502\n",
      "step  500 loss = 630927\n",
      "step  750 loss = 501493\n",
      "step 1000 loss = 1.04533e+06\n",
      "step 1250 loss = 1.98151e+06\n",
      "step 1500 loss = 328504\n",
      "step 1750 loss = 279016\n",
      "step 2000 loss = 310281\n",
      "step 2250 loss = 217622\n",
      "step 2500 loss = 204381\n",
      "step 2750 loss = 176877\n",
      "step 3000 loss = 152123\n"
     ]
    },
    {
     "data": {
      "image/png": "[encoded data removed]",
      "text/plain": [
       "<Figure size 432x216 with 1 Axes>"
      ]
     },
     "metadata": {
      "needs_background": "light"
     },
     "output_type": "display_data"
    }
   ],
   "source": [
    "guide = fit_svi(partial(regional_model, counts), num_steps=3001)"
   ]
  },
  {
   "cell_type": "code",
   "execution_count": 18,
   "metadata": {},
   "outputs": [
    {
     "name": "stdout",
     "output_type": "stream",
     "text": [
      "Multiplicative advantage: 1.17\n"
     ]
    }
   ],
   "source": [
    "print(\"Multiplicative advantage: {:.2f}\".format(\n",
    "      np.exp(guide.median()['rate'][1] - guide.median()['rate'][0])))"
   ]
  },
  {
   "cell_type": "markdown",
   "metadata": {},
   "source": [
    "## Defining an alternative regional model\n",
    "\n",
    "The regional model we defined above assumed that the `rate` for each lineage did not vary between regions. Here we add additional hierarchical structure and allow the rate to vary from region to region."
   ]
  },
  {
   "cell_type": "code",
   "execution_count": 19,
   "metadata": {},
   "outputs": [],
   "source": [
    "def regional_model2(counts):\n",
    "    T, R, L = counts.shape\n",
    "    \n",
    "    lineage_plate = pyro.plate(\"lineages\", L, dim=-1)\n",
    "    region_plate = pyro.plate(\"region\", R, dim=-2)\n",
    "    time_plate = pyro.plate(\"time\", T, dim=-3)\n",
    "\n",
    "    # We assume the init can vary a lot from region to region but\n",
    "    # that the rate varies considerably less.\n",
    "    init_scale = pyro.sample(\"init_scale\", dist.LogNormal(0, 2))\n",
    "    rate_scale = pyro.sample(\"rate_scale\", dist.LogNormal(-4, 2))\n",
    "    \n",
    "    # As before each lineage has a latent growth rate\n",
    "    with lineage_plate:\n",
    "        rate_lineage = pyro.sample(\"rate\", dist.Normal(0, 1))\n",
    "        \n",
    "    # We allow the rate and init to vary from region to region\n",
    "    with region_plate, lineage_plate:\n",
    "        # The per-region per-lineage rate is governed by a hierarchical prior\n",
    "        rate_region_lineage = pyro.sample(\"rate_region_lineage\", \n",
    "                                          dist.Normal(rate_lineage, rate_scale))\n",
    "        init = pyro.sample(\"init\", dist.Normal(0, init_scale))\n",
    "\n",
    "    # We measure time in units of the SARS-CoV-2 generation time of 5.5 days\n",
    "    time = torch.arange(float(T)) * dataset[\"time_step_days\"] / 5.5\n",
    "\n",
    "    logits = init + rate_region_lineage * time[:, None, None]\n",
    "    \n",
    "    # Observe sequences via a multinomial likelihood.\n",
    "    with time_plate, region_plate:\n",
    "        pyro.sample(\n",
    "            \"obs\",\n",
    "            dist.Multinomial(logits=logits.unsqueeze(-2), validate_args=False),\n",
    "            obs=counts.unsqueeze(-2),\n",
    "        )"
   ]
  },
  {
   "cell_type": "code",
   "execution_count": 20,
   "metadata": {},
   "outputs": [
    {
     "name": "stdout",
     "output_type": "stream",
     "text": [
      "step    0 loss = 2.14938e+06\n",
      "step  250 loss = 1.44383e+06\n",
      "step  500 loss = 1.24946e+06\n",
      "step  750 loss = 698431\n",
      "step 1000 loss = 614089\n",
      "step 1250 loss = 505670\n",
      "step 1500 loss = 433675\n",
      "step 1750 loss = 434513\n",
      "step 2000 loss = 382355\n",
      "step 2250 loss = 334707\n",
      "step 2500 loss = 300050\n",
      "step 2750 loss = 280347\n",
      "step 3000 loss = 261445\n"
     ]
    },
    {
     "data": {
      "image/png": "[encoded data removed]",
      "text/plain": [
       "<Figure size 432x216 with 1 Axes>"
      ]
     },
     "metadata": {
      "needs_background": "light"
     },
     "output_type": "display_data"
    }
   ],
   "source": [
    "guide = fit_svi(partial(regional_model2, counts), num_steps=3001)"
   ]
  },
  {
   "cell_type": "code",
   "execution_count": 21,
   "metadata": {},
   "outputs": [
    {
     "name": "stdout",
     "output_type": "stream",
     "text": [
      "Multiplicative advantage: 1.14\n"
     ]
    }
   ],
   "source": [
    "print(\"Multiplicative advantage: {:.2f}\".format(\n",
    "      np.exp(guide.median()['rate'][1] - guide.median()['rate'][0])))"
   ]
  }
 ],
 "metadata": {
  "kernelspec": {
   "display_name": "Python 3",
   "language": "python",
   "name": "python3"
  },
  "language_info": {
   "codemirror_mode": {
    "name": "ipython",
    "version": 3
   },
   "file_extension": ".py",
   "mimetype": "text/x-python",
   "name": "python",
   "nbconvert_exporter": "python",
   "pygments_lexer": "ipython3",
   "version": "3.8.2"
  }
 },
 "nbformat": 4,
 "nbformat_minor": 4
}
