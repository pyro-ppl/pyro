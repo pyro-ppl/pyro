{
 "cells": [
  {
   "cell_type": "markdown",
   "metadata": {},
   "source": [
    "# Variational Autoencoder with a Normalizing Flow prior\n",
    "\n",
    "Using a normalizing flow as prior for the latent variables instead of the typical standard Gaussian is an easy way to make a variational autoencoder (VAE) more expressive. This notebook demonstrates how to implement a VAE with a normalizing flow as prior for the MNIST dataset. We strongly recommend to read [Pyro's VAE tutorial](vae.ipynb) first.\n",
    "\n",
    "> In this notebook we use [Zuko](https://zuko.readthedocs.io/) to implement normalizing flows, but similar results can be obtained with other PyTorch-based flow libraries."
   ]
  },
  {
   "cell_type": "code",
   "execution_count": 1,
   "metadata": {},
   "outputs": [],
   "source": [
    "import pyro\n",
    "import torch\n",
    "import torch.nn as nn\n",
    "import torch.utils.data as data\n",
    "import zuko\n",
    "\n",
    "from pyro.contrib.zuko import ZukoToPyro\n",
    "from pyro.optim import Adam\n",
    "from pyro.infer import SVI, Trace_ELBO\n",
    "from torch import Tensor\n",
    "from torchvision.datasets import MNIST\n",
    "from torchvision.transforms.functional import to_tensor, to_pil_image\n",
    "from tqdm import tqdm"
   ]
  },
  {
   "cell_type": "markdown",
   "metadata": {},
   "source": [
    "## Data\n",
    "\n",
    "The [MNIST](https://wikipedia.org/wiki/MNIST_database) dataset consists of 28 x 28 grayscale images representing handwritten digits (0 to 9)."
   ]
  },
  {
   "cell_type": "code",
   "execution_count": 2,
   "metadata": {},
   "outputs": [],
   "source": [
    "trainset = MNIST(root='', download=True, train=True, transform=to_tensor)\n",
    "trainloader = data.DataLoader(trainset, batch_size=256, shuffle=True)"
   ]
  },
  {
   "cell_type": "code",
   "execution_count": 3,
   "metadata": {},
   "outputs": [
    {
     "data": {
      "image/png": "[encoded data removed]",
      "text/plain": [
       "<PIL.Image.Image image mode=L size=448x28>"
      ]
     },
     "execution_count": 3,
     "metadata": {},
     "output_type": "execute_result"
    }
   ],
   "source": [
    "x = [trainset[i][0] for i in range(16)]\n",
    "x = torch.cat(x, dim=-1)\n",
    "\n",
    "to_pil_image(x)"
   ]
  },
  {
   "cell_type": "markdown",
   "metadata": {},
   "source": [
    "## Model\n",
    "\n",
    "As for the [previous tutorial](vae.ipynb), we choose a (diagonal) Gaussian model as encoder $q_\\psi(z | x)$ and a Bernoulli model as decoder $p_\\phi(x | z)$. "
   ]
  },
  {
   "cell_type": "code",
   "execution_count": 4,
   "metadata": {},
   "outputs": [],
   "source": [
    "class GaussianEncoder(nn.Module):\n",
    "    def __init__(self, features: int, latent: int):\n",
    "        super().__init__()\n",
    "\n",
    "        self.hyper = nn.Sequential(\n",
    "            nn.Linear(features, 1024),\n",
    "            nn.ReLU(),\n",
    "            nn.Linear(1024, 1024),\n",
    "            nn.ReLU(),\n",
    "            nn.Linear(1024, 2 * latent),\n",
    "        )\n",
    "\n",
    "    def forward(self, x: Tensor):\n",
    "        phi = self.hyper(x)\n",
    "        mu, log_sigma = phi.chunk(2, dim=-1)\n",
    "\n",
    "        return pyro.distributions.Normal(mu, log_sigma.exp()).to_event(1)\n",
    "\n",
    "\n",
    "class BernoulliDecoder(nn.Module):\n",
    "    def __init__(self, features: int, latent: int):\n",
    "        super().__init__()\n",
    "\n",
    "        self.hyper = nn.Sequential(\n",
    "            nn.Linear(latent, 1024),\n",
    "            nn.ReLU(),\n",
    "            nn.Linear(1024, 1024),\n",
    "            nn.ReLU(),\n",
    "            nn.Linear(1024, features),\n",
    "        )\n",
    "\n",
    "    def forward(self, z: Tensor):\n",
    "        phi = self.hyper(z)\n",
    "        rho = torch.sigmoid(phi)\n",
    "\n",
    "        return pyro.distributions.Bernoulli(rho).to_event(1)"
   ]
  },
  {
   "cell_type": "markdown",
   "metadata": {},
   "source": [
    "However, we choose a [masked autoregressive flow](https://arxiv.org/abs/1705.07057) (MAF) as prior $p_\\phi(z)$ instead of the typical standard Gaussian $\\mathcal{N}(0, I)$. Instead of implementing the MAF ourselves, we borrow it from the [Zuko](https://github.com/probabilists/zuko) library. Because Zuko distributions are very similar to Pyro distributions, a thin wrapper (`ZukoToPyro`) is sufficient to make Zuko and Pyro 100% compatible."
   ]
  },
  {
   "cell_type": "code",
   "execution_count": 5,
   "metadata": {},
   "outputs": [
    {
     "data": {
      "text/plain": [
       "VAE(\n",
       "  (encoder): GaussianEncoder(\n",
       "    (hyper): Sequential(\n",
       "      (0): Linear(in_features=784, out_features=1024, bias=True)\n",
       "      (1): ReLU()\n",
       "      (2): Linear(in_features=1024, out_features=1024, bias=True)\n",
       "      (3): ReLU()\n",
       "      (4): Linear(in_features=1024, out_features=32, bias=True)\n",
       "    )\n",
       "  )\n",
       "  (decoder): BernoulliDecoder(\n",
       "    (hyper): Sequential(\n",
       "      (0): Linear(in_features=16, out_features=1024, bias=True)\n",
       "      (1): ReLU()\n",
       "      (2): Linear(in_features=1024, out_features=1024, bias=True)\n",
       "      (3): ReLU()\n",
       "      (4): Linear(in_features=1024, out_features=784, bias=True)\n",
       "    )\n",
       "  )\n",
       "  (prior): MAF(\n",
       "    (transform): LazyComposedTransform(\n",
       "      (0): MaskedAutoregressiveTransform(\n",
       "        (base): MonotonicAffineTransform()\n",
       "        (order): [0, 1, 2, 3, 4, ..., 11, 12, 13, 14, 15]\n",
       "        (hyper): MaskedMLP(\n",
       "          (0): MaskedLinear(in_features=16, out_features=256, bias=True)\n",
       "          (1): ReLU()\n",
       "          (2): MaskedLinear(in_features=256, out_features=256, bias=True)\n",
       "          (3): ReLU()\n",
       "          (4): MaskedLinear(in_features=256, out_features=32, bias=True)\n",
       "        )\n",
       "      )\n",
       "      (1): MaskedAutoregressiveTransform(\n",
       "        (base): MonotonicAffineTransform()\n",
       "        (order): [15, 14, 13, 12, 11, ..., 4, 3, 2, 1, 0]\n",
       "        (hyper): MaskedMLP(\n",
       "          (0): MaskedLinear(in_features=16, out_features=256, bias=True)\n",
       "          (1): ReLU()\n",
       "          (2): MaskedLinear(in_features=256, out_features=256, bias=True)\n",
       "          (3): ReLU()\n",
       "          (4): MaskedLinear(in_features=256, out_features=32, bias=True)\n",
       "        )\n",
       "      )\n",
       "      (2): MaskedAutoregressiveTransform(\n",
       "        (base): MonotonicAffineTransform()\n",
       "        (order): [0, 1, 2, 3, 4, ..., 11, 12, 13, 14, 15]\n",
       "        (hyper): MaskedMLP(\n",
       "          (0): MaskedLinear(in_features=16, out_features=256, bias=True)\n",
       "          (1): ReLU()\n",
       "          (2): MaskedLinear(in_features=256, out_features=256, bias=True)\n",
       "          (3): ReLU()\n",
       "          (4): MaskedLinear(in_features=256, out_features=32, bias=True)\n",
       "        )\n",
       "      )\n",
       "    )\n",
       "    (base): Unconditional(DiagNormal(loc: torch.Size([16]), scale: torch.Size([16])))\n",
       "  )\n",
       ")"
      ]
     },
     "execution_count": 5,
     "metadata": {},
     "output_type": "execute_result"
    }
   ],
   "source": [
    "class VAE(nn.Module):\n",
    "    def __init__(self, features: int, latent: int = 16):\n",
    "        super().__init__()\n",
    "\n",
    "        self.encoder = GaussianEncoder(features, latent)\n",
    "        self.decoder = BernoulliDecoder(features, latent)\n",
    "\n",
    "        self.prior = zuko.flows.MAF(\n",
    "            features=latent,\n",
    "            transforms=3,\n",
    "            hidden_features=(256, 256),\n",
    "        )\n",
    "\n",
    "    def model(self, x: Tensor):\n",
    "        pyro.module(\"prior\", self.prior)\n",
    "        pyro.module(\"decoder\", self.decoder)\n",
    "\n",
    "        with pyro.plate(\"batch\", len(x)):\n",
    "            z = pyro.sample(\"z\", ZukoToPyro(self.prior()))\n",
    "            x = pyro.sample(\"x\", self.decoder(z), obs=x)\n",
    "\n",
    "    def guide(self, x: Tensor):\n",
    "        pyro.module(\"encoder\", self.encoder)\n",
    "\n",
    "        with pyro.plate(\"batch\", len(x)):\n",
    "            z = pyro.sample(\"z\", self.encoder(x))\n",
    "\n",
    "vae = VAE(784, 16).cuda()\n",
    "vae"
   ]
  },
  {
   "cell_type": "markdown",
   "metadata": {},
   "source": [
    "## Training\n",
    "\n",
    "We train our VAE with a standard stochastic variational inference (SVI) pipeline."
   ]
  },
  {
   "cell_type": "code",
   "execution_count": 6,
   "metadata": {},
   "outputs": [
    {
     "name": "stderr",
     "output_type": "stream",
     "text": [
      "100%|██████████| 96/96 [24:04<00:00, 15.05s/it, loss=63.1]\n"
     ]
    }
   ],
   "source": [
    "pyro.clear_param_store()\n",
    "\n",
    "svi = SVI(vae.model, vae.guide, Adam({'lr': 1e-3}), loss=Trace_ELBO())\n",
    "\n",
    "for epoch in (bar := tqdm(range(96))):\n",
    "    losses = []\n",
    "\n",
    "    for x, _ in trainloader:\n",
    "        x = x.round().flatten(-3).cuda()\n",
    "\n",
    "        losses.append(svi.step(x))\n",
    "\n",
    "    losses = torch.tensor(losses)\n",
    "\n",
    "    bar.set_postfix(loss=losses.sum().item() / len(trainset))"
   ]
  },
  {
   "cell_type": "markdown",
   "metadata": {},
   "source": [
    "After training, we can generate MNIST images by sampling latent variables from the prior and decoding them."
   ]
  },
  {
   "cell_type": "code",
   "execution_count": 7,
   "metadata": {},
   "outputs": [
    {
     "data": {
      "image/png": "[encoded data removed]",
      "text/plain": [
       "<PIL.Image.Image image mode=L size=448x28>"
      ]
     },
     "execution_count": 7,
     "metadata": {},
     "output_type": "execute_result"
    }
   ],
   "source": [
    "z = vae.prior().sample((16,))\n",
    "x = vae.decoder(z).mean.reshape(-1, 28, 28)\n",
    "\n",
    "to_pil_image(x.movedim(0, 1).reshape(28, -1))"
   ]
  }
 ],
 "metadata": {
  "kernelspec": {
   "display_name": "pyro",
   "language": "python",
   "name": "pyro"
  },
  "language_info": {
   "codemirror_mode": {
    "name": "ipython",
    "version": 3
   },
   "file_extension": ".py",
   "mimetype": "text/x-python",
   "name": "python",
   "nbconvert_exporter": "python",
   "pygments_lexer": "ipython3",
   "version": "3.9.18"
  }
 },
 "nbformat": 4,
 "nbformat_minor": 5
}
