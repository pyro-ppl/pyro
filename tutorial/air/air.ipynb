{
 "cells": [
  {
   "cell_type": "markdown",
   "metadata": {},
   "source": [
    "# Attend Infer Repeat\n",
    "\n",
    "In this tutorial we will implement the \"Attend Infer Repeat\" (AIR) model [1] and apply it to the multi-mnist dataset.\n",
    "\n",
    "A [standalone implementation](https://github.com/uber/pyro/blob/dev/examples/air/air.py) is also available.\n",
    "\n",
    "<p style='border: 1px solid red; padding: 1em'>\n",
    "Current status: Pyro has everything needed to describe this model and inference strategy, but we have yet to collect any experimental results. We will add results to this tutorial once we have them.\n",
    "</p>"
   ]
  },
  {
   "cell_type": "code",
   "execution_count": 1,
   "metadata": {},
   "outputs": [
    {
     "name": "stdout",
     "output_type": "stream",
     "text": [
      "Populating the interactive namespace from numpy and matplotlib\n"
     ]
    }
   ],
   "source": [
    "%pylab inline\n",
    "from collections import namedtuple\n",
    "import pyro\n",
    "import pyro.optim as optim\n",
    "from pyro.infer import SVI\n",
    "from pyro.distributions import Bernoulli, DiagNormal\n",
    "from pyro.util import ng_zeros, ng_ones\n",
    "import torch\n",
    "from torch.autograd import Variable\n",
    "import torch.nn as nn\n",
    "from torch.nn.functional import relu, sigmoid, softplus, grid_sample, affine_grid\n",
    "import numpy as np"
   ]
  },
  {
   "cell_type": "markdown",
   "metadata": {},
   "source": [
    "## Introduction\n",
    "\n",
    "AIR is a generative model of scenes. In this tutorial we will use it to model images from dataset this is simialar to the multi-mnist dataset in [1]. Here are some data points from this data set:"
   ]
  },
  {
   "cell_type": "code",
   "execution_count": 2,
   "metadata": {
    "scrolled": true
   },
   "outputs": [
    {
     "data": {
      "image/png": "[encoded data removed]",
      "text/plain": [
       "<matplotlib.figure.Figure at 0x10433be80>"
      ]
     },
     "metadata": {},
     "output_type": "display_data"
    }
   ],
   "source": [
    "fn = '../../examples/air/data/multi_mnist_train_uint8.npz'\n",
    "mnist = Variable(torch.from_numpy(np.load(fn)['x'].astype(np.float32) / 255.))\n",
    "def show_images(imgs):\n",
    "    figure(figsize=(12,4))\n",
    "    for i, img in enumerate(imgs):\n",
    "        subplot(1, len(imgs), i + 1)\n",
    "        imshow(img.data.numpy(), cmap='binary')\n",
    "show_images(mnist[9:14])"
   ]
  },
  {
   "cell_type": "markdown",
   "metadata": {},
   "source": [
    "To get an idea where we're heading, we first give a brief overview of the model and the approach we'll take to inference. We'll follow the naming conventions used in [1] as closely as possible.\n",
    "\n",
    "AIR decomposes the process of generating an image into discrete steps, each of which generates only part of the image. More specifically, at each step the model will generate a small image (`y_att`) by passing a latent \"code\" variable (`z_what`) through a neural network. We'll refer to these small images as \"objects\". In the case of AIR applied to the multi-mnist dataset we expect each of these objects to represent a single digit. The model also includes uncertainty about the location and size of each object. We'll describe an object's location and size as its \"pose\" (`z_where`). To produce the final image, each object will first be located within a larger image (`y`) using the pose infomation `z_where`. Finally, the `y`s from all time steps will be combined additively to produce the final image `x`.\n",
    "\n",
    "Here's a picture (reproduced from [1]) that shows two steps of this process:\n",
    "\n",
    "<img src='model-generative.png' style='width: 35%;' />\n",
    "\n",
    "Inference in performed in this model using [amortized variational inference](http://pyro.ai/examples/svi_part_i.html). The parameters of the neural network are also optimized during inference. Performing inference in such rich models is always difficult, but the presence of discrete choices (the number of steps in this case) makes inference in this model particularly tricky. For this reason the authors use a technique called data dependent baselines to achieve good performance. This technique can be implemented in Pyro, and we'll see how later in the tutorial.\n",
    "\n",
    "## The Model\n",
    "\n",
    "### Generating a single object\n",
    "\n",
    "Let's look at the model more closely. At the core of the model is the generative process for a single object. Recall that:\n",
    "\n",
    "* At each step a single object is generated.\n",
    "* Each object is generated by passing its latent code through a neural network.\n",
    "* We maintain uncertainty about the latent code used to generate each object, as well as its pose.\n",
    "\n",
    "This can be expressed in Pyro like so:"
   ]
  },
  {
   "cell_type": "code",
   "execution_count": 3,
   "metadata": {
    "collapsed": true
   },
   "outputs": [],
   "source": [
    "# Create the neural network. This takes a latent code, z_what, to pixel intensities.\n",
    "class Decoder(nn.Module):\n",
    "    def __init__(self):\n",
    "        super(Decoder, self).__init__()\n",
    "        self.l1 = nn.Linear(50, 200)\n",
    "        self.l2 = nn.Linear(200, 400)\n",
    "\n",
    "    def forward(self, z_what):\n",
    "        h = relu(self.l1(z_what))\n",
    "        return sigmoid(self.l2(h))\n",
    "\n",
    "decode = Decoder()\n",
    "\n",
    "z_where_prior_mu = Variable(torch.Tensor([3, 0, 0]))\n",
    "z_where_prior_sigma = Variable(torch.Tensor([0.1, 1, 1]))\n",
    "z_what_prior_mu = ng_zeros(50)\n",
    "z_what_prior_sigma = ng_ones(50)\n",
    "\n",
    "def model_step_sketch(t):\n",
    "    # Sample object pose. This is a 3-dimensional vector representing x,y position and size.\n",
    "    z_where = pyro.sample('z_where_{}'.format(t),\n",
    "                          DiagNormal(z_where_prior_mu,\n",
    "                                     z_where_prior_sigma,\n",
    "                                     batch_size=1))\n",
    "\n",
    "    # Sample object code. This is a 50-dimensional vector.\n",
    "    z_what = pyro.sample('z_what_{}'.format(t),\n",
    "                         DiagNormal(z_what_prior_mu,\n",
    "                                    z_what_prior_sigma,\n",
    "                                    batch_size=1))\n",
    "    \n",
    "    # Map code to pixel space using the neural network.\n",
    "    y_att = decode(z_what)\n",
    "\n",
    "    # Position/scale object within larger image.\n",
    "    y = object_to_image(z_where, y_att)\n",
    "\n",
    "    return y"
   ]
  },
  {
   "cell_type": "markdown",
   "metadata": {},
   "source": [
    "Hopefully the use of `pyro.sample` and PyTorch networks within a model seem familiar at this point. If not you might want to review earlier parts of the tutorial. One thing to note is that we include the current step `t` in the name passed to `pyro.sample` to ensure that names are unique across steps.\n",
    "\n",
    "The `object_to_image` function is specific to this model and warrants further attention. Recall that the neural network (`decode` here) will output a small image, and that we would like to add this to the output image after performing any translation and scaling required to achieve the pose (location and size) described by `z_where`. It's not clear how to do this, and in particular it's not obvious that this can be implemented in a way that preserves the differentiability of our model. However, it turns out we can do this this using a spatial transformer network (STN) [2].\n",
    "\n",
    "Happily for us, PyTorch makes it easy to implement a STN using its [`grid_sample`](http://pytorch.org/docs/master/nn.html#grid-sample) and [`affine_grid`](http://pytorch.org/docs/master/nn.html#affine-grid) functions. `object_to_image` is a simple function that calls these, doing a little extra work to massage `z_where` into the expected format."
   ]
  },
  {
   "cell_type": "code",
   "execution_count": 4,
   "metadata": {
    "collapsed": true
   },
   "outputs": [],
   "source": [
    "def expand_z_where(z_where):\n",
    "    # Takes three vectors, and massages them into 2x3 matrices with elements like so:\n",
    "    # [s,x,y] -> [[s,0,x],\n",
    "    #             [0,s,y]]\n",
    "    n = z_where.size(0)\n",
    "    expansion_indices = Variable(torch.LongTensor([1, 0, 2, 0, 1, 3]))\n",
    "    out = torch.cat((ng_zeros([1, 1]).expand(n, 1), z_where), 1)\n",
    "    return torch.index_select(out, 1, expansion_indices).view(n, 2, 3)\n",
    "\n",
    "def object_to_image(z_where, obj):\n",
    "    n = obj.size(0)\n",
    "    theta = expand_z_where(z_where)\n",
    "    grid = affine_grid(theta, torch.Size((n, 1, 50, 50)))\n",
    "    out = grid_sample(obj.view(n, 1, 20, 20), grid)\n",
    "    return out.view(n, 50, 50)"
   ]
  },
  {
   "cell_type": "markdown",
   "metadata": {},
   "source": [
    "A discussion of the details of the STN is beyond the scope of this tutorial. For our purposes however, it suffices to keep in mind that `object_to_image` takes the small image generated by the neural network and places it within a larger image with the desired pose.\n",
    "\n",
    "Let's visualize the results of calling `model_step_sketch` a few times to clarify this:"
   ]
  },
  {
   "cell_type": "code",
   "execution_count": 5,
   "metadata": {},
   "outputs": [
    {
     "data": {
      "image/png": "[encoded data removed]",
      "text/plain": [
       "<matplotlib.figure.Figure at 0x104a21048>"
      ]
     },
     "metadata": {},
     "output_type": "display_data"
    }
   ],
   "source": [
    "pyro.set_rng_seed(0)\n",
    "samples = [model_step_sketch(0)[0] for _ in range(5)]\n",
    "show_images(samples)"
   ]
  },
  {
   "cell_type": "markdown",
   "metadata": {},
   "source": [
    "### Generating an entire image\n",
    "\n",
    "Having completed the implementation of a single step, we next consider how we can use this to generate an entire image. Recall that we would like to maintain uncertainty over the number of steps used to generate each data point. One choice we could make for the prior over the number of steps is the geometric distribution, which can be expressed as follows:"
   ]
  },
  {
   "cell_type": "code",
   "execution_count": 6,
   "metadata": {},
   "outputs": [
    {
     "name": "stdout",
     "output_type": "stream",
     "text": [
      "sampled 8\n",
      "sampled 2\n",
      "sampled 0\n",
      "sampled 0\n",
      "sampled 1\n"
     ]
    }
   ],
   "source": [
    "pyro.set_rng_seed(0)\n",
    "def geom(num_trials=0):\n",
    "    p = Variable(torch.Tensor([0.5]))\n",
    "    x = pyro.sample('x{}'.format(num_trials), Bernoulli(p))\n",
    "    if x.data[0] == 1:\n",
    "        return num_trials\n",
    "    else:\n",
    "        return geom(num_trials + 1)\n",
    "\n",
    "# Generate some samples.\n",
    "for _ in range(5):\n",
    "    print('sampled {}'.format(geom()))"
   ]
  },
  {
   "cell_type": "markdown",
   "metadata": {},
   "source": [
    "This is a direct translation of the definition of the geometric distribution as the number of failures before a success in a series of Bernoulli trials. Here we express this as a recursive function that passes around a counter representing the number of trials made, `num_trials`. This function samples from the Bernoulli and returns `num_trials` if `x == 1` (which represents success), otherwise it makes a recursive call, incrementing the counter.\n",
    "\n",
    "The use of a geometric prior is appealing because it does not bound the number of steps the model can use a priori. It's also convenient, because by extending `geometric` to generate an object before each recursive call, we turn this from a geometric distribution over counts to a distribution over images with a geometrically distributed number of steps."
   ]
  },
  {
   "cell_type": "code",
   "execution_count": 7,
   "metadata": {
    "collapsed": true
   },
   "outputs": [],
   "source": [
    "def geom_prior(x, step=0):\n",
    "    p = Variable(torch.Tensor([0.5]))\n",
    "    i = pyro.sample('i{}'.format(step), Bernoulli(p))\n",
    "    if i.data[0] == 1:\n",
    "        return x\n",
    "    else: \n",
    "        x = x + model_step_sketch(step)\n",
    "        return geom_prior(x, step + 1)"
   ]
  },
  {
   "cell_type": "markdown",
   "metadata": {},
   "source": [
    "Let's visualize some samples from this distribution:"
   ]
  },
  {
   "cell_type": "code",
   "execution_count": 8,
   "metadata": {},
   "outputs": [
    {
     "data": {
      "image/png": "[encoded data removed]",
      "text/plain": [
       "<matplotlib.figure.Figure at 0x10b1e9080>"
      ]
     },
     "metadata": {},
     "output_type": "display_data"
    }
   ],
   "source": [
    "pyro.set_rng_seed(13)\n",
    "x_empty = ng_zeros(1, 50, 50)\n",
    "samples = [geom_prior(x_empty)[0] for _ in range(5)]\n",
    "show_images(samples)"
   ]
  },
  {
   "cell_type": "markdown",
   "metadata": {
    "collapsed": true
   },
   "source": [
    "#### Aside: Vectorized mini-batches\n",
    "\n",
    "In our final implementation we would like to generate a mini batch of samples in parallel for efficiency. While Pyro supports vectorized mini batches with `iarange`, it currently assumes that each `sample` statement within `iarange` makes a choice for all samples in the mini batch. This is problematic for us because as we have just seen, each sample from our model can take a different number of steps, and hence make a different number of choices.\n",
    "\n",
    "One way around this is to arrange for all samples to take the same number of steps. Of course, we still want to have differing numbers of objects in the images we generate, so we will take the occurance of a successful Bernoulli trial to indicate that we should stop adding the objects we generate to the output image, and use some other criteria to decide when to stop making further steps.\n",
    "\n",
    "\n",
    "Even though this approach performs redundant computation, the gains from using mini batches are so large that this is still a win overall. (Eventually though, we'd like to be able to express the model in a way\n",
    "that avoids this redundant computation.)\n",
    "\n",
    "Following [1] we choose to take a fixed number of steps for each sample. (By doing so we no longer specify a geometric distribution over the number of steps, since the number of steps is now bounded. It would be interesting to explore the alternative of having each sample in the batch take steps until a successful Bernoulli trial has occured in each, as this would retain the geometric prior.)\n",
    "\n",
    "Here's an updated model step function that implements this idea. The only changes from `model_step_sketch` are that we now conditionally add the object to the output image based on the outcome for a new Bernoulli random draw, and we've added a new parameter `n` that specifies the size of the mini batch."
   ]
  },
  {
   "cell_type": "code",
   "execution_count": 9,
   "metadata": {
    "collapsed": true
   },
   "outputs": [],
   "source": [
    "def model_step(n, t, prev_x, prev_z_pres):\n",
    "\n",
    "    # Sample variable indicating whether to add this object to the output.\n",
    "\n",
    "    # We multiple the success probability of 0.5 by the value sampled for this\n",
    "    # choice in the previous step. By doing so we add objects to the output until\n",
    "    # the first 0 is sampled, after which we add no further objects.\n",
    "    z_pres = pyro.sample('z_pres_{}'.format(t), Bernoulli(0.5 * prev_z_pres))\n",
    "\n",
    "    z_where = pyro.sample('z_where_{}'.format(t),\n",
    "                          DiagNormal(z_where_prior_mu,\n",
    "                                     z_where_prior_sigma,\n",
    "                                     batch_size=n))\n",
    "\n",
    "    z_what = pyro.sample('z_what_{}'.format(t),\n",
    "                         DiagNormal(z_what_prior_mu,\n",
    "                                    z_what_prior_sigma,\n",
    "                                    batch_size=n))\n",
    "\n",
    "    y_att = decode(z_what)\n",
    "    y = object_to_image(z_where, y_att)\n",
    "\n",
    "    # Combine the image generated at this step with the image so far.\n",
    "    x = prev_x + y * z_pres.view(-1, 1, 1)\n",
    "\n",
    "    return x, z_pres"
   ]
  },
  {
   "cell_type": "markdown",
   "metadata": {},
   "source": [
    "By iterating this step function we can produce an entire image, composed of multiple objects. Since each image in the multi-mnist dataset contains zero, one or two digits we will allow the model to use up to (and including) three steps. This will allow us to observe whether inference avoids using the unnecessary final step, and to test the model's ability to generalize to images with more digits than are present in the dataset."
   ]
  },
  {
   "cell_type": "code",
   "execution_count": 10,
   "metadata": {
    "collapsed": true
   },
   "outputs": [],
   "source": [
    "def prior(n):\n",
    "    x = ng_zeros(n, 50, 50)\n",
    "    z_pres = ng_ones(n, 1)\n",
    "    for t in range(3):\n",
    "        x, z_pres = model_step(n, t, x, z_pres)\n",
    "    return x"
   ]
  },
  {
   "cell_type": "markdown",
   "metadata": {},
   "source": [
    "We have now fully specified the prior for our model. Let's visualize some samples to get a feel for this distribution:"
   ]
  },
  {
   "cell_type": "code",
   "execution_count": 11,
   "metadata": {},
   "outputs": [
    {
     "data": {
      "image/png": "[encoded data removed]",
      "text/plain": [
       "<matplotlib.figure.Figure at 0x10b4ea0f0>"
      ]
     },
     "metadata": {},
     "output_type": "display_data"
    }
   ],
   "source": [
    "pyro.set_rng_seed(87678)\n",
    "show_images(prior(5))"
   ]
  },
  {
   "cell_type": "markdown",
   "metadata": {},
   "source": [
    "#### Specifying the likelihood\n",
    "\n",
    "The last thing we need in order to complete the specification of the model is a likelihood function. Following [1] we will use a Gaussian likelihood with a fixed standard deviation of 0.3. This is straight forward to implement using `pyro.observe`.\n",
    "\n",
    "When we later come to perform inference we will find it convenient to package the prior and likelihood into a single function. This is also a convenient place to introduce `iarange`, which we use to implement data subsampling, and to register the networks we would like to optimize with `pyro.module`. (LINK: iarange, module docs)"
   ]
  },
  {
   "cell_type": "code",
   "execution_count": 12,
   "metadata": {
    "collapsed": true
   },
   "outputs": [],
   "source": [
    "def model(data):\n",
    "    # Register network for optimization.\n",
    "    pyro.module(\"decode\", decode)\n",
    "    with pyro.iarange('data', data.size(0)) as indices:\n",
    "        batch = data[indices]\n",
    "        x = prior(batch.size(0)).view(-1, 50 * 50)\n",
    "        sd = (0.3 * ng_ones(1)).expand_as(x)\n",
    "        pyro.observe('obs', DiagNormal(x, sd), batch)"
   ]
  },
  {
   "cell_type": "markdown",
   "metadata": {},
   "source": [
    "## The Guide\n",
    "\n",
    "Following [1] we will perform [amortized variational inference](http://pyro.ai/examples/svi_part_i.html) in this model. Pyro provides general purpose machinery that implements most of this inference strategy, but as we have seen in earlier tutorials we are required to provide a model specific guide. What we call a guide in Pyro is exactly the entity called the \"inference network\" in the paper.\n",
    "\n",
    "We will structure the guide around a recurrent network to allow the guide to capture (some of) the dependencies we expect to be present in the true posterior. At each step the recurrent network will generate the parameters for the choices made within the step. The values sampled will be fed back into the recurrent network so that this information can be used when computing the parameters for the next step. The guide for the [Deep Markov Model](http://pyro.ai/examples/dmm/dmm_tutorial.html) shares a similar structure.\n",
    "\n",
    "As in the model, the core of the guide is the logic for a single step. Here's a sketch of an implementation of this:"
   ]
  },
  {
   "cell_type": "code",
   "execution_count": 13,
   "metadata": {
    "collapsed": true
   },
   "outputs": [],
   "source": [
    "def guide_step_basic(t, data, prev):\n",
    "\n",
    "    # The RNN takes the images and choices from the previous step as input.\n",
    "    rnn_input = torch.cat((data, prev.z_where, prev.z_what, prev.z_pres), 1)\n",
    "    h, c = rnn(rnn_input, (prev.h, prev.c))\n",
    "\n",
    "    # Compute parameters for all choices made this step, by passing\n",
    "    # the RNN hidden start through another neural network.\n",
    "    z_pres_p, z_where_mu, z_where_sigma, z_what_mu, z_what_sigma = predict_basic(h)\n",
    "\n",
    "    z_pres = pyro.sample('z_pres_{}'.format(t),\n",
    "                         Bernoulli(z_pres_p * prev.z_pres))\n",
    "\n",
    "    z_where = pyro.sample('z_where_{}'.format(t),\n",
    "                          DiagNormal(z_where_mu, z_where_sigma))\n",
    "\n",
    "    z_what = pyro.sample('z_what_{}'.format(t),\n",
    "                         DiagNormal(z_what_mu, z_what_sigma))\n",
    "\n",
    "    return # values for next step"
   ]
  },
  {
   "cell_type": "markdown",
   "metadata": {},
   "source": [
    "This would be a reasonable guide to use with this model, but the paper describes a crucial improvement we can make to the code above. Recall that the guide will output information about an object's pose and its latent code at each step. The improvement we can make is based on the observation that once we have infered the pose of an object, we can do a better job of infering its latent code if we use the pose information to crop the object from the input image, and pass the result (which we'll call a \"window\") through an additional network in order to compute the parameters of the latent code. We'll call this additional network the \"encoder\" below.\n",
    "\n",
    "Here's how we can implement this improved guide, and a fleshed out implementation of the networks involved:"
   ]
  },
  {
   "cell_type": "code",
   "execution_count": 14,
   "metadata": {
    "collapsed": true
   },
   "outputs": [],
   "source": [
    "rnn = nn.LSTMCell(2554, 256)\n",
    "\n",
    "# Takes pixel intensities of the attention window to parameters (mean,\n",
    "# standard deviation) of the distribution over the latent code,\n",
    "# z_what.\n",
    "class Encoder(nn.Module):\n",
    "    def __init__(self):\n",
    "        super(Encoder, self).__init__()\n",
    "        self.l1 = nn.Linear(400, 200)\n",
    "        self.l2 = nn.Linear(200, 100)\n",
    "\n",
    "    def forward(self, data):\n",
    "        h = relu(self.l1(data))\n",
    "        a = self.l2(h)\n",
    "        return a[:, 0:50], softplus(a[:, 50:])\n",
    "\n",
    "encode = Encoder()\n",
    "\n",
    "# Takes the guide RNN hidden state to parameters of\n",
    "# the guide distributions over z_where and z_pres.\n",
    "class Predict(nn.Module):\n",
    "    def __init__(self, ):\n",
    "        super(Predict, self).__init__()\n",
    "        self.l = nn.Linear(256, 7)\n",
    "\n",
    "    def forward(self, h):\n",
    "        a = self.l(h)\n",
    "        z_pres_p = sigmoid(a[:, 0:1]) # Squish to [0,1]\n",
    "        z_where_mu = a[:, 1:4]\n",
    "        z_where_sigma = softplus(a[:, 4:]) # Squish to >0\n",
    "        return z_pres_p, z_where_mu, z_where_sigma\n",
    "\n",
    "predict = Predict()\n",
    "\n",
    "def guide_step_improved(t, data, prev):\n",
    "\n",
    "    rnn_input = torch.cat((data, prev.z_where, prev.z_what, prev.z_pres), 1)\n",
    "    h, c = rnn(rnn_input, (prev.h, prev.c))\n",
    "    z_pres_p, z_where_mu, z_where_sigma = predict(h)\n",
    "\n",
    "    z_pres = pyro.sample('z_pres_{}'.format(t),\n",
    "                         Bernoulli(z_pres_p * prev.z_pres))\n",
    "\n",
    "    z_where = pyro.sample('z_where_{}'.format(t),\n",
    "                          DiagNormal(z_where_mu, z_where_sigma))\n",
    "\n",
    "    # New. Crop a small window from the input.\n",
    "    x_att = image_to_object(z_where, data)\n",
    "\n",
    "    # Compute the parameter of the distribution over z_what\n",
    "    # by passing the window through the encoder network.\n",
    "    z_what_mu, z_what_sigma = encode(x_att)\n",
    "\n",
    "    z_what = pyro.sample('z_what_{}'.format(t),\n",
    "                         DiagNormal(z_what_mu, z_what_sigma))\n",
    "\n",
    "    return # values for next step"
   ]
  },
  {
   "cell_type": "markdown",
   "metadata": {},
   "source": [
    "Since we would like to maintain differentiability of the guide we again use a STN to perform the required \"cropping\". The `image_to_object` function performs the opposite transform to the object_to_image function used in the guide. That is, the former takes a small image and places it on a larger image, and the latter crops a small image from a larger image."
   ]
  },
  {
   "cell_type": "code",
   "execution_count": 15,
   "metadata": {
    "collapsed": true
   },
   "outputs": [],
   "source": [
    "def z_where_inv(z_where):\n",
    "    # Take a batch of z_where vectors, and compute their \"inverse\".\n",
    "    # That is, for each row compute:\n",
    "    # [s,x,y] -> [1/s,-x/s,-y/s]\n",
    "    # These are the parameters required to perform the inverse of the\n",
    "    # spatial transform performed in the generative model.\n",
    "    n = z_where.size(0)\n",
    "    out = torch.cat((ng_ones([1, 1]).type_as(z_where).expand(n, 1), -z_where[:, 1:]), 1)\n",
    "    out = out / z_where[:, 0:1]\n",
    "    return out\n",
    "\n",
    "def image_to_object(z_where, image):\n",
    "    n = image.size(0)\n",
    "    theta_inv = expand_z_where(z_where_inv(z_where))\n",
    "    grid = affine_grid(theta_inv, torch.Size((n, 1, 20, 20)))\n",
    "    out = grid_sample(image.view(n, 1, 50, 50), grid)\n",
    "    return out.view(n, -1)"
   ]
  },
  {
   "cell_type": "markdown",
   "metadata": {},
   "source": [
    "### Another perspective\n",
    "\n",
    "So far we've considered the model and the guide in isolation, but we gain an interesting perspective if we zoom out and look at the model and guide computation as a whole. Doing so, we see that at each step AIR includes a sub-computation that has the same structure as a [Variational Auto-encoder](http://pyro.ai/examples/svi_part_i.html) (VAE).\n",
    "\n",
    "To see this, notice that the guide passes the window through a neural network (the encoder) to generate the parameters of the distribution over a latent code, and the model passes samples from this latent code distribution through another neural network (the decoder) to generate an output window. This structure is highlighted in the following figure, reproduced from [1]:\n",
    "\n",
    "<img src='model-micro.png' style='width: 35%; padding: 1em 0 1em' />\n",
    "\n",
    "From this perspective AIR is seen as a sequential variant of the VAE. The act of cropping a small window from the input image serves to restrict the attention of a VAE to a small region of the input image at each step; hence \"Attend, Infer, Repeat\".\n",
    "\n",
    "## Inference\n",
    "\n",
    "As we mentioned in the introduction, successfully performing inference in this model is a challenge. In particular, the presence of discrete choices in the model makes inference trickier than in a model in which all choices can be reparameterized. The underlying problem we face is that the gradient estimates we use in the optimization performed by variational inference have much higher variance in the presence of discrete choices.\n",
    "\n",
    "To bring this variance under control, the paper applies a technique called \"data dependent baselines\" (AKA \"neural baselines\") to the discrete choices in the model.\n",
    "\n",
    "### Data dependent baselines\n",
    "\n",
    "Happily for us, Pyro includes support for data dependent baselines. If you are not already familiar with this idea, you might want to read [our introduction](http://pyro.ai/examples/svi_part_iii.html) before continuing. As model authors we only have to implement the neural network, pass it our data as input, and feed its output to `pyro.sample`. Pyro's inference back-end will ensure that the baseline is included in the gradient estimator used for inference, and that the network parameters are updated appropriately.\n",
    "\n",
    "Let's see how we can add data dependent baselines to our AIR implementation. We need a neural network that can output a (scalar) baseline value at each discrete choice in the guide, having received a multi-mnist image and the values sampled by the guide so far as input. Notice that this is very similar to the structure of the guide network, and indeed we will again use a recurrent network.\n",
    "\n",
    "To implement this we will first write a short helper function that implements a single step of the RNN we've just described:"
   ]
  },
  {
   "cell_type": "code",
   "execution_count": 16,
   "metadata": {
    "collapsed": true
   },
   "outputs": [],
   "source": [
    "bl_rnn = nn.LSTMCell(2554, 256)\n",
    "bl_predict = nn.Linear(256, 1)\n",
    "\n",
    "# Use an RNN to compute the baseline value. This network takes the\n",
    "# input images and the values samples so far as input.\n",
    "def baseline_step(x, prev):\n",
    "    rnn_input = torch.cat((x,\n",
    "                           prev.z_where.detach(),\n",
    "                           prev.z_what.detach(),\n",
    "                           prev.z_pres.detach()), 1)\n",
    "    bl_h, bl_c = bl_rnn(rnn_input, (prev.bl_h, prev.bl_c))\n",
    "    bl_value = bl_predict(bl_h)\n",
    "    return bl_value, bl_h, bl_c"
   ]
  },
  {
   "cell_type": "markdown",
   "metadata": {},
   "source": [
    "Notice that we `detach` values sampled by the guide before passing them to the baseline network. This is important as the baseline network and the guide network are entirely separate networks optimized with different objectives. Without this, gradients would flow from the baseline network in to the guide network. When using data dependent baselines we must do this whenever we feed values sampled by the guide into the baselines network. (If we don't we'll trigger a PyTorch run-time error.)\n",
    "\n",
    "We now have everything we need to complete the implementation of the guide. Our final `guide_step` function will be very similar to `guide_step_improved` introduced above. The only change is that we will call the `baseline_step` helper and pass the baseline value it returns to `pyro.sample`, completing the baseline implementation. We'll also write a `guide` function that will iterate `guide_step` in order to provide a guide for the whole model."
   ]
  },
  {
   "cell_type": "code",
   "execution_count": 17,
   "metadata": {
    "collapsed": true
   },
   "outputs": [],
   "source": [
    "GuideState = namedtuple('GuideState', ['h', 'c', 'bl_h', 'bl_c', 'z_pres', 'z_where', 'z_what'])\n",
    "def initial_guide_state(n):\n",
    "    return GuideState(h=ng_zeros(n, 256),\n",
    "                      c=ng_zeros(n, 256),\n",
    "                      bl_h=ng_zeros(n, 256),\n",
    "                      bl_c=ng_zeros(n, 256),\n",
    "                      z_pres=ng_ones(n, 1),\n",
    "                      z_where=ng_zeros(n, 3),\n",
    "                      z_what=ng_zeros(n, 50))\n",
    "\n",
    "def guide_step(t, data, prev):\n",
    "\n",
    "    rnn_input = torch.cat((data, prev.z_where, prev.z_what, prev.z_pres), 1)\n",
    "    h, c = rnn(rnn_input, (prev.h, prev.c))\n",
    "    z_pres_p, z_where_mu, z_where_sigma = predict(h)\n",
    "\n",
    "    # Here we compute the baseline value, and pass it to sample.\n",
    "    baseline_value, bl_h, bl_c = baseline_step(data, prev)\n",
    "    z_pres = pyro.sample('z_pres_{}'.format(t),\n",
    "                         Bernoulli(z_pres_p * prev.z_pres),\n",
    "                         baseline=dict(baseline_value=baseline_value))\n",
    "\n",
    "    z_where = pyro.sample('z_where_{}'.format(t),\n",
    "                          DiagNormal(z_where_mu, z_where_sigma))\n",
    "    \n",
    "    x_att = image_to_object(z_where, data)\n",
    "\n",
    "    z_what_mu, z_what_sigma = encode(x_att)\n",
    "\n",
    "    z_what = pyro.sample('z_what_{}'.format(t),\n",
    "                         DiagNormal(z_what_mu, z_what_sigma))\n",
    "\n",
    "    return GuideState(h=h, c=c, bl_h=bl_h, bl_c=bl_c, z_pres=z_pres, z_where=z_where, z_what=z_what)\n",
    "\n",
    "def guide(data):\n",
    "    # Register networks for optimization.\n",
    "    pyro.module('rnn', rnn),\n",
    "    pyro.module('predict', predict),\n",
    "    pyro.module('encode', encode),\n",
    "    pyro.module('bl_rnn', bl_rnn)\n",
    "    pyro.module('bl_predict', bl_predict)\n",
    "\n",
    "    with pyro.iarange('data', data.size(0), subsample_size=64) as indices:\n",
    "        batch = data[indices]\n",
    "        state = initial_guide_state(batch.size(0))\n",
    "        steps = []\n",
    "        for t in range(3):\n",
    "            state = guide_step(t, batch, state)\n",
    "            steps.append(state)\n",
    "        return steps"
   ]
  },
  {
   "cell_type": "markdown",
   "metadata": {},
   "source": [
    "### Putting it altogether\n",
    "\n",
    "We have now completed the implementation of the model and the guide. As we have already seen in earlier tutorials, we need write only a few more lines of code to begin performing inference:"
   ]
  },
  {
   "cell_type": "code",
   "execution_count": 18,
   "metadata": {},
   "outputs": [
    {
     "name": "stdout",
     "output_type": "stream",
     "text": [
      "i=0, elbo=4571.42\n",
      "i=1, elbo=3535.00\n",
      "i=2, elbo=3177.93\n",
      "i=3, elbo=4915.40\n",
      "i=4, elbo=3130.54\n"
     ]
    }
   ],
   "source": [
    "data = mnist.view(-1, 50 * 50)\n",
    "\n",
    "svi = SVI(model,\n",
    "          guide,\n",
    "          optim.Adam({'lr': 1e-4}),\n",
    "          loss='ELBO',\n",
    "          trace_graph=True)\n",
    "\n",
    "for i in range(5):\n",
    "    loss = svi.step(data)\n",
    "    print('i={}, elbo={:.2f}'.format(i, loss / data.size(0)))"
   ]
  },
  {
   "cell_type": "markdown",
   "metadata": {},
   "source": [
    "One key detail here is that we pass the `trace_graph=True` option to `SVI`. This enables a more [sophisticated gradient estimator](http://pyro.ai/examples/svi_part_iii.html) that further reduces the variance of gradient estimates by making use of independence information included in the model. Use of this feature is necessary in order to achieve good results in the presence of discrete choices.\n",
    "\n",
    "## Improvements\n",
    "\n",
    "Here are a few ways in which the implementation given here might be improved:\n",
    "\n",
    "* It is reported to be useful in practice to use a different learning rate for the baseline network. In [1] a learning rate of `1e-4` was used for the guide network, and a learning rate of `1e-3` was used for the baseline network. This is straight forward to implement in Pyro by tagging modules (LINK: modules tagging docs) associated with the baseline network and passing multiple learning rates to the optimizer.\n",
    "* Use bigger neural networks.\n",
    "* Use optimizable parameters for the initial guide state.\n",
    "\n",
    "## Results\n",
    "\n",
    "`TODO: Add results`\n",
    "\n",
    "## References\n",
    "\n",
    "[1] `Attend, Infer, Repeat: Fast Scene Understanding with Generative Models`\n",
    "<br />&nbsp;&nbsp;&nbsp;&nbsp;\n",
    "S. M. Ali Eslami and Nicolas Heess and Theophane Weber and Yuval Tassa and Koray Kavukcuoglu and Geoffrey E. Hinton\n",
    "\n",
    "[2] `Spatial Transformer Networks`\n",
    "<br />&nbsp;&nbsp;&nbsp;&nbsp;\n",
    "Max Jaderberg and Karen Simonyan and Andrew Zisserman"
   ]
  }
 ],
 "metadata": {
  "kernelspec": {
   "display_name": "Python 3",
   "language": "python",
   "name": "python3"
  },
  "language_info": {
   "codemirror_mode": {
    "name": "ipython",
    "version": 3
   },
   "file_extension": ".py",
   "mimetype": "text/x-python",
   "name": "python",
   "nbconvert_exporter": "python",
   "pygments_lexer": "ipython3",
   "version": "3.6.2"
  }
 },
 "nbformat": 4,
 "nbformat_minor": 2
}
